{
  "nbformat": 4,
  "nbformat_minor": 0,
  "metadata": {
    "colab": {
      "name": "Belajar TensorFlow.ipynb",
      "provenance": [],
      "collapsed_sections": []
    },
    "kernelspec": {
      "name": "python3",
      "display_name": "Python 3"
    }
  },
  "cells": [
    {
      "cell_type": "code",
      "metadata": {
        "id": "a7OqZPKki9Dx",
        "colab_type": "code",
        "outputId": "4d80fd62-0ffb-4db6-f5ac-ed093c1d9b02",
        "colab": {
          "base_uri": "https://localhost:8080/",
          "height": 1000
        }
      },
      "source": [
        "# Image Classification\n",
        "\n",
        "import tensorflow as tf\n",
        "from tensorflow import keras\n",
        "import numpy as np\n",
        "import matplotlib.pyplot as plt\n",
        "\n",
        "data = keras.datasets.fashion_mnist\n",
        "\n",
        "(train_images, train_labels), (test_images, test_labels) = data.load_data()\n",
        "\n",
        "class_names = ['T-shirt/top', 'Trouser', 'Pullover', 'Dress', 'Coat','Sandal', 'Shirt', 'Sneaker', 'Bag', 'Ankle boot']\n",
        "\n",
        "train_images = train_images / 255.0\n",
        "test_images = test_images / 255.0\n",
        "\n",
        "\n",
        "model = keras.Sequential([keras.layers.Flatten(input_shape=(28,28)),\n",
        "                          keras.layers.Dense(128, activation=\"relu\"),\n",
        "                          keras.layers.Dense(10, activation=\"softmax\")])\n",
        "\n",
        "model.compile(optimizer=\"adam\", \n",
        "              loss=\"sparse_categorical_crossentropy\", \n",
        "              metrics=[\"accuracy\"])\n",
        "\n",
        "model.fit(train_images, train_labels, epochs=5)\n",
        "\n",
        "model.save(\"model_image_classification.h5\")\n",
        "\n",
        "\n",
        "#model = keras.models.load_model(\"model_image_classification.h5\")\n",
        "\n",
        "\n",
        "prediction = model.predict(test_images)\n",
        "\n",
        "for i in range(5):\n",
        "    plt.grid(False)\n",
        "    plt.imshow(test_images[i], cmap=plt.cm.binary)\n",
        "    plt.xlabel(\"actual : \" + class_names[test_labels[i]])\n",
        "    plt.title(\"Prediction : \" + class_names[np.argmax(prediction[i])])\n",
        "    plt.show()"
      ],
      "execution_count": 2,
      "outputs": [
        {
          "output_type": "stream",
          "text": [
            "WARNING:tensorflow:From /usr/local/lib/python3.6/dist-packages/tensorflow_core/python/ops/resource_variable_ops.py:1630: calling BaseResourceVariable.__init__ (from tensorflow.python.ops.resource_variable_ops) with constraint is deprecated and will be removed in a future version.\n",
            "Instructions for updating:\n",
            "If using Keras pass *_constraint arguments to layers.\n",
            "Train on 60000 samples\n",
            "Epoch 1/5\n",
            "60000/60000 [==============================] - 4s 69us/sample - loss: 0.4911 - acc: 0.8277\n",
            "Epoch 2/5\n",
            "60000/60000 [==============================] - 4s 65us/sample - loss: 0.3752 - acc: 0.8641\n",
            "Epoch 3/5\n",
            "60000/60000 [==============================] - 4s 65us/sample - loss: 0.3390 - acc: 0.8765\n",
            "Epoch 4/5\n",
            "60000/60000 [==============================] - 4s 67us/sample - loss: 0.3152 - acc: 0.8852\n",
            "Epoch 5/5\n",
            "60000/60000 [==============================] - 4s 66us/sample - loss: 0.2962 - acc: 0.8905\n",
            "WARNING:tensorflow:From /usr/local/lib/python3.6/dist-packages/tensorflow_core/python/ops/init_ops.py:97: calling GlorotUniform.__init__ (from tensorflow.python.ops.init_ops) with dtype is deprecated and will be removed in a future version.\n",
            "Instructions for updating:\n",
            "Call initializer instance with the dtype argument instead of passing it to the constructor\n",
            "WARNING:tensorflow:From /usr/local/lib/python3.6/dist-packages/tensorflow_core/python/ops/init_ops.py:97: calling Zeros.__init__ (from tensorflow.python.ops.init_ops) with dtype is deprecated and will be removed in a future version.\n",
            "Instructions for updating:\n",
            "Call initializer instance with the dtype argument instead of passing it to the constructor\n"
          ],
          "name": "stdout"
        },
        {
          "output_type": "display_data",
          "data": {
            "image/png": "[encoded data removed]",
            "text/plain": [
              "<Figure size 432x288 with 1 Axes>"
            ]
          },
          "metadata": {
            "tags": []
          }
        },
        {
          "output_type": "display_data",
          "data": {
            "image/png": "[encoded data removed]",
            "text/plain": [
              "<Figure size 432x288 with 1 Axes>"
            ]
          },
          "metadata": {
            "tags": []
          }
        },
        {
          "output_type": "display_data",
          "data": {
            "image/png": "[encoded data removed]",
            "text/plain": [
              "<Figure size 432x288 with 1 Axes>"
            ]
          },
          "metadata": {
            "tags": []
          }
        },
        {
          "output_type": "display_data",
          "data": {
            "image/png": "[encoded data removed]",
            "text/plain": [
              "<Figure size 432x288 with 1 Axes>"
            ]
          },
          "metadata": {
            "tags": []
          }
        },
        {
          "output_type": "display_data",
          "data": {
            "image/png": "[encoded data removed]",
            "text/plain": [
              "<Figure size 432x288 with 1 Axes>"
            ]
          },
          "metadata": {
            "tags": []
          }
        }
      ]
    },
    {
      "cell_type": "code",
      "metadata": {
        "id": "nLG9wgjLDygW",
        "colab_type": "code",
        "outputId": "b4a3dc21-17bc-41a3-e53e-b0ce5afce06a",
        "colab": {
          "base_uri": "https://localhost:8080/",
          "height": 1000
        }
      },
      "source": [
        "# Text Classification\n",
        "\n",
        "import tensorflow as tf\n",
        "from tensorflow import keras\n",
        "import numpy as np\n",
        "\n",
        "data = keras.datasets.imdb\n",
        "\n",
        "(train_data, train_labels), (test_data, test_labels) = data.load_data(num_words=88000)\n",
        "\n",
        "word_index = data.get_word_index()\n",
        "word_index = {k:(v+3) for k, v in word_index.items()}\n",
        "word_index[\"<PAD>\"] = 0\n",
        "word_index[\"<START>\"] = 1\n",
        "word_index[\"<UNK>\"] = 2\n",
        "word_index[\"<UNUSED>\"] = 3\n",
        "\n",
        "reverse_word_index = dict([(value, key) for (key, value) in word_index.items()])\n",
        "\n",
        "train_data = keras.preprocessing.sequence.pad_sequences(train_data, value=word_index[\"<PAD>\"], padding=\"post\", maxlen=250)\n",
        "test_data = keras.preprocessing.sequence.pad_sequences(test_data, value=word_index[\"<PAD>\"], padding=\"post\", maxlen=250)\n",
        "\n",
        "def decode_review(text):\n",
        "    return \" \".join([reverse_word_index.get(i, \"?\") for i in text])\n",
        "\n",
        "def review_encode(s):\n",
        "    encoded = [1]\n",
        "\n",
        "    for word in s:\n",
        "        if word.lower() in word_index:\n",
        "            encoded.append(word_index[word.lower()])\n",
        "        else:\n",
        "            encoded.append(2)\n",
        "    return encoded\n",
        "\n",
        "model = keras.Sequential()\n",
        "model.add(keras.layers.Embedding(88000, 16))\n",
        "model.add(keras.layers.GlobalAveragePooling1D())\n",
        "model.add(keras.layers.Dense(16, activation=\"relu\"))\n",
        "model.add(keras.layers.Dense(1, activation=\"sigmoid\"))\n",
        "\n",
        "model.summary()\n",
        "\n",
        "model.compile(optimizer=\"adam\", loss=\"binary_crossentropy\", metrics=[\"accuracy\"])\n",
        "\n",
        "x_val = train_data[:10000]\n",
        "x_train = train_data[10000:]\n",
        "\n",
        "y_val = train_labels[:10000]\n",
        "y_train = train_labels[10000:]\n",
        "\n",
        "fitModel = model.fit(x_train, y_train, epochs=40, batch_size=512, validation_data=(x_val, y_val), verbose=1)\n",
        "\n",
        "results = model.evaluate(test_data, test_labels)\n",
        "print(results)\n",
        "\n",
        "model.save(\"model_text_classification.h5\")\n",
        "\n",
        "#model = keras.models.load_model(\"model_text_classification.h5\")\n",
        "\n",
        "with open(\"test.txt\", encoding=\"utf-8\") as f:\n",
        "    for line in f.readlines():\n",
        "        nline = line.replace(\",\", \"\").replace(\".\", \"\").replace(\"(\", \"\").replace(\")\", \"\").replace(\":\", \"\").replace(\"\\\"\", \"\").strip().split(\" \")\n",
        "        encode = review_encode(nline)\n",
        "        encode = keras.preprocessing.sequence.pad_sequences([encode], value=word_index[\"<PAD>\"], padding=\"post\", maxlen=250)\n",
        "        predict = model.predict(encode)\n",
        "        print(line)\n",
        "        print(encode)\n",
        "        print(predict[0])"
      ],
      "execution_count": 3,
      "outputs": [
        {
          "output_type": "stream",
          "text": [
            "Downloading data from https://storage.googleapis.com/tensorflow/tf-keras-datasets/imdb.npz\n",
            "17465344/17464789 [==============================] - 0s 0us/step\n",
            "Downloading data from https://storage.googleapis.com/tensorflow/tf-keras-datasets/imdb_word_index.json\n",
            "1646592/1641221 [==============================] - 0s 0us/step\n",
            "WARNING:tensorflow:From /usr/local/lib/python3.6/dist-packages/tensorflow_core/python/keras/initializers.py:119: calling RandomUniform.__init__ (from tensorflow.python.ops.init_ops) with dtype is deprecated and will be removed in a future version.\n",
            "Instructions for updating:\n",
            "Call initializer instance with the dtype argument instead of passing it to the constructor\n",
            "Model: \"sequential_1\"\n",
            "_________________________________________________________________\n",
            "Layer (type)                 Output Shape              Param #   \n",
            "=================================================================\n",
            "embedding (Embedding)        (None, None, 16)          1408000   \n",
            "_________________________________________________________________\n",
            "global_average_pooling1d (Gl (None, 16)                0         \n",
            "_________________________________________________________________\n",
            "dense_2 (Dense)              (None, 16)                272       \n",
            "_________________________________________________________________\n",
            "dense_3 (Dense)              (None, 1)                 17        \n",
            "=================================================================\n",
            "Total params: 1,408,289\n",
            "Trainable params: 1,408,289\n",
            "Non-trainable params: 0\n",
            "_________________________________________________________________\n",
            "WARNING:tensorflow:From /usr/local/lib/python3.6/dist-packages/tensorflow_core/python/ops/nn_impl.py:183: where (from tensorflow.python.ops.array_ops) is deprecated and will be removed in a future version.\n",
            "Instructions for updating:\n",
            "Use tf.where in 2.0, which has the same broadcast rule as np.where\n",
            "Train on 15000 samples, validate on 10000 samples\n",
            "Epoch 1/40\n",
            "15000/15000 [==============================] - 1s 85us/sample - loss: 0.6920 - acc: 0.5485 - val_loss: 0.6899 - val_acc: 0.6334\n",
            "Epoch 2/40\n",
            "15000/15000 [==============================] - 1s 71us/sample - loss: 0.6857 - acc: 0.6784 - val_loss: 0.6816 - val_acc: 0.7349\n",
            "Epoch 3/40\n",
            "15000/15000 [==============================] - 1s 72us/sample - loss: 0.6723 - acc: 0.7609 - val_loss: 0.6653 - val_acc: 0.7647\n",
            "Epoch 4/40\n",
            "15000/15000 [==============================] - 1s 72us/sample - loss: 0.6486 - acc: 0.7803 - val_loss: 0.6387 - val_acc: 0.7706\n",
            "Epoch 5/40\n",
            "15000/15000 [==============================] - 1s 72us/sample - loss: 0.6127 - acc: 0.8099 - val_loss: 0.6024 - val_acc: 0.7916\n",
            "Epoch 6/40\n",
            "15000/15000 [==============================] - 1s 71us/sample - loss: 0.5665 - acc: 0.8309 - val_loss: 0.5600 - val_acc: 0.8100\n",
            "Epoch 7/40\n",
            "15000/15000 [==============================] - 1s 73us/sample - loss: 0.5147 - acc: 0.8453 - val_loss: 0.5149 - val_acc: 0.8238\n",
            "Epoch 8/40\n",
            "15000/15000 [==============================] - 1s 72us/sample - loss: 0.4630 - acc: 0.8643 - val_loss: 0.4735 - val_acc: 0.8358\n",
            "Epoch 9/40\n",
            "15000/15000 [==============================] - 1s 72us/sample - loss: 0.4146 - acc: 0.8795 - val_loss: 0.4364 - val_acc: 0.8452\n",
            "Epoch 10/40\n",
            "15000/15000 [==============================] - 1s 71us/sample - loss: 0.3713 - acc: 0.8933 - val_loss: 0.4053 - val_acc: 0.8544\n",
            "Epoch 11/40\n",
            "15000/15000 [==============================] - 1s 72us/sample - loss: 0.3339 - acc: 0.9027 - val_loss: 0.3797 - val_acc: 0.8617\n",
            "Epoch 12/40\n",
            "15000/15000 [==============================] - 1s 70us/sample - loss: 0.3019 - acc: 0.9109 - val_loss: 0.3593 - val_acc: 0.8665\n",
            "Epoch 13/40\n",
            "15000/15000 [==============================] - 1s 71us/sample - loss: 0.2750 - acc: 0.9171 - val_loss: 0.3418 - val_acc: 0.8720\n",
            "Epoch 14/40\n",
            "15000/15000 [==============================] - 1s 70us/sample - loss: 0.2509 - acc: 0.9253 - val_loss: 0.3284 - val_acc: 0.8750\n",
            "Epoch 15/40\n",
            "15000/15000 [==============================] - 1s 73us/sample - loss: 0.2303 - acc: 0.9329 - val_loss: 0.3182 - val_acc: 0.8789\n",
            "Epoch 16/40\n",
            "15000/15000 [==============================] - 1s 71us/sample - loss: 0.2118 - acc: 0.9390 - val_loss: 0.3086 - val_acc: 0.8789\n",
            "Epoch 17/40\n",
            "15000/15000 [==============================] - 1s 71us/sample - loss: 0.1950 - acc: 0.9447 - val_loss: 0.3015 - val_acc: 0.8831\n",
            "Epoch 18/40\n",
            "15000/15000 [==============================] - 1s 69us/sample - loss: 0.1801 - acc: 0.9496 - val_loss: 0.2950 - val_acc: 0.8829\n",
            "Epoch 19/40\n",
            "15000/15000 [==============================] - 1s 70us/sample - loss: 0.1665 - acc: 0.9541 - val_loss: 0.2899 - val_acc: 0.8856\n",
            "Epoch 20/40\n",
            "15000/15000 [==============================] - 1s 70us/sample - loss: 0.1546 - acc: 0.9591 - val_loss: 0.2864 - val_acc: 0.8852\n",
            "Epoch 21/40\n",
            "15000/15000 [==============================] - 1s 72us/sample - loss: 0.1430 - acc: 0.9629 - val_loss: 0.2827 - val_acc: 0.8865\n",
            "Epoch 22/40\n",
            "15000/15000 [==============================] - 1s 72us/sample - loss: 0.1330 - acc: 0.9665 - val_loss: 0.2808 - val_acc: 0.8870\n",
            "Epoch 23/40\n",
            "15000/15000 [==============================] - 1s 72us/sample - loss: 0.1233 - acc: 0.9702 - val_loss: 0.2801 - val_acc: 0.8868\n",
            "Epoch 24/40\n",
            "15000/15000 [==============================] - 1s 70us/sample - loss: 0.1150 - acc: 0.9725 - val_loss: 0.2774 - val_acc: 0.8872\n",
            "Epoch 25/40\n",
            "15000/15000 [==============================] - 1s 71us/sample - loss: 0.1070 - acc: 0.9765 - val_loss: 0.2766 - val_acc: 0.8889\n",
            "Epoch 26/40\n",
            "15000/15000 [==============================] - 1s 71us/sample - loss: 0.0997 - acc: 0.9788 - val_loss: 0.2773 - val_acc: 0.8877\n",
            "Epoch 27/40\n",
            "15000/15000 [==============================] - 1s 70us/sample - loss: 0.0931 - acc: 0.9803 - val_loss: 0.2767 - val_acc: 0.8877\n",
            "Epoch 28/40\n",
            "15000/15000 [==============================] - 1s 70us/sample - loss: 0.0869 - acc: 0.9828 - val_loss: 0.2761 - val_acc: 0.8894\n",
            "Epoch 29/40\n",
            "15000/15000 [==============================] - 1s 70us/sample - loss: 0.0814 - acc: 0.9847 - val_loss: 0.2797 - val_acc: 0.8885\n",
            "Epoch 30/40\n",
            "15000/15000 [==============================] - 1s 71us/sample - loss: 0.0764 - acc: 0.9851 - val_loss: 0.2780 - val_acc: 0.8894\n",
            "Epoch 31/40\n",
            "15000/15000 [==============================] - 1s 74us/sample - loss: 0.0710 - acc: 0.9871 - val_loss: 0.2787 - val_acc: 0.8889\n",
            "Epoch 32/40\n",
            "15000/15000 [==============================] - 1s 71us/sample - loss: 0.0665 - acc: 0.9879 - val_loss: 0.2803 - val_acc: 0.8898\n",
            "Epoch 33/40\n",
            "15000/15000 [==============================] - 1s 72us/sample - loss: 0.0622 - acc: 0.9889 - val_loss: 0.2817 - val_acc: 0.8890\n",
            "Epoch 34/40\n",
            "15000/15000 [==============================] - 1s 70us/sample - loss: 0.0584 - acc: 0.9902 - val_loss: 0.2834 - val_acc: 0.8885\n",
            "Epoch 35/40\n",
            "15000/15000 [==============================] - 1s 71us/sample - loss: 0.0552 - acc: 0.9907 - val_loss: 0.2856 - val_acc: 0.8886\n",
            "Epoch 36/40\n",
            "15000/15000 [==============================] - 1s 72us/sample - loss: 0.0515 - acc: 0.9919 - val_loss: 0.2877 - val_acc: 0.8887\n",
            "Epoch 37/40\n",
            "15000/15000 [==============================] - 1s 73us/sample - loss: 0.0483 - acc: 0.9926 - val_loss: 0.2897 - val_acc: 0.8885\n",
            "Epoch 38/40\n",
            "15000/15000 [==============================] - 1s 71us/sample - loss: 0.0455 - acc: 0.9938 - val_loss: 0.2935 - val_acc: 0.8871\n",
            "Epoch 39/40\n",
            "15000/15000 [==============================] - 1s 72us/sample - loss: 0.0432 - acc: 0.9938 - val_loss: 0.2936 - val_acc: 0.8883\n",
            "Epoch 40/40\n",
            "15000/15000 [==============================] - 1s 72us/sample - loss: 0.0403 - acc: 0.9942 - val_loss: 0.2970 - val_acc: 0.8868\n",
            "25000/25000 [==============================] - 1s 38us/sample - loss: 0.3297 - acc: 0.8718\n",
            "[0.3296822730207443, 0.87184]\n",
            "Of all the animation classics from the Walt Disney Company, there is perhaps none that is more celebrated than \"The Lion King.\" Its acclaim is understandable: this is quite simply a glorious work of art.\"The Lion King\" gets off to a fantastic start. The film's opening number, \"The Circle of Life,\" is outstanding. The song lasts for about four minutes, but from the first sound, the audience is floored. Not even National Geographic can capture something this beautiful and dramatic. Not only is this easily the greatest moment in film animation, this is one of the greatest sequences in film history. The story that follows is not as majestic, but the film has to tell a story. Actually, the rest of the film holds up quite well. The story takes place in Africa, where the lions rule. Their king, Mufasa (James Earl Jones) has just been blessed with a son, Simba (Jonathan Taylor Thomas), who goes in front of his uncle Scar (Jeremy Irons) as next in line for the throne. Scar is furious, and sets in motion plans to usurp the throne for himself. After a tragedy occurs and Mufasa is killed, Scar persuades Simba to flee, leaving himself as king. Simba grows up in exile, but he learns that while he can run away from his past, he can never escape it. When viewing the film, it is obvious that \"The Lion King\" is quite different from its predecessors (and successors). This is an epic story that contains more dramatic power than all the other Disney films combined. While there are definitely some light-hearted moments, there is no denying the dark drama that takes up the bulk of the story. While it could be argued that Disney is the champion of family entertainment, this film is not for the very young. Some of the sequences are very dark and violent, many bordering on frightening, even for the older crowd.The voice actors are terrific. Jonathan Taylor Thomas brings a large dose of innocence to Young Simba. He's mischievous, but also terribly naive. His older counterpart, voiced by Matthew Broderick, equals him. He's older, but no less mature. The voices are so similar that it's almost impossible not to believe that they are the same character at different ages. Perhaps no one could have been better suited for the role of Mufasa than James Earl Jones. His baritone voice gives the Mufasa a quality of great power and wisdom; there is no question that his role is king. As Scar, Jeremy Irons is pitch-perfect. The drawing of the character is villainous, but Irons' vocal work complements the animation to create one of the most memorable, and vicious, villains in Disney history. He's unquestionably evil, but he's also clever, which makes him all the more dangerous. Manipulation, not violence is his greatest weapon. Providing some much needed comic relief are Nathan Lane and Ernie Sabella as Timon and Pumbaa, two other outcasts (a meerkat and a warthog), and Rowan Atkinson as Zazu. While there is definite fun from these characters, neither the actors nor the filmmakers allow them to go over-the-top and destroy the mood of the film.Disney's animated features are known for their gorgeous artwork. Nowhere is this more apparent than in \"The Lion King.\" Every single frame is jaw-dropping. The colors are rich, and the drawings are sharp and beautiful. One of the pitfalls of animation (both computer and hand-drawn) is that there is sometimes a visible distance between the subject and the background, making it seem as if the figure animation was cut and pasted on the background (this is obviously what happens, but it is up to the artists to make sure that it isn't noticeable). There is none of that here.Throughout the Golden Age of Disney animation, the films have been musicals. \"The Lion King\" is no different, and the songs are brilliant. All of the numbers are standouts (\"Can You Feel the Love Tonight\" won the Oscar, but in my opinion, \"The Circle of Life\" was better). In the cases of Simba and Nala (Simba's girlfriend), both young and old, there is a noticeable difference between the speaking and singing parts (everyone else does their own singing and speaking), but never mind. It still works, and that's what's important.\"The Lion King\" is not flawless, but on first viewing, they aren't noticeable, and it is likely that the young won't ever notice them. \"Beauty and the Beast\" was the first animated film to get an Oscar nomination for Best Picture (it lost to \"The Silence of the Lambs\"), and is thus far the only animated film to receive such an honor. That being the case, it's hard to understand why \"The Lion King\" was not given the same distinction. The two films are more or less equal in quality, and the nominees for the honor that year were not strong. If you haven't already, see \"The Lion King.\" You won't be disappointed.\n",
            "[[    6  4687  3744   200     4   875     5     4   978   231    12   306\n",
            "     17    48     4   822   748    16   605     5 12625    23     4   978\n",
            "     14     9   540    51   571    21    12     9    56     8     4  2719\n",
            "      8    97   252    15    12   218  6456    50     9   600     7    15\n",
            "      2     4  2050   559     7   910   748     4   108    28    77  2769\n",
            "      4  3082   711     9    57   275     5     4   690    26   530    32\n",
            "      7     4  1396    26 16015    70    25   235     4   119  4487  1199\n",
            "      4   735    21    11    61   652     4  4246     7   113    16   128\n",
            "     11     4  2936     7 10539     5 35738 20403   980   199   185     5\n",
            "    154    50     9     6  6456  1474   200     4  1386     5  1118   531\n",
            "    316   334   127    68   205  1118     5  1386    21   115   330    12\n",
            "    131   495     5   198   803     2  3082   711     9    24  3562    21\n",
            "     23    86   829    36   713  6456     5    12     9  1329    15     4\n",
            "    185   528   126  1495    98   936     5     4  2773    16     4    86\n",
            "   1125    22     8    79    35   735  4372    18   118   431    12   416\n",
            "      8     4  3542     7     4 10721     5     9  1346   230     4    64\n",
            "   1125    22     8  3911   141    35  2898    15   112     4   420    45\n",
            "    254     8   391   138     4  3082   711    16    24   348     4   172\n",
            "   8076     4   107   108    26    53    42   329  3215    11   489     5\n",
            "      4 13341    18     4  2898    15   291    71    24   565    48    25\n",
            "    774   460    67     4  3082   711    25   528    30   685]]\n",
            "[0.9735541]\n"
          ],
          "name": "stdout"
        }
      ]
    }
  ]
}